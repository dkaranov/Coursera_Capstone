{
 "cells": [
  {
   "cell_type": "markdown",
   "metadata": {},
   "source": [
    "# Capstone Project - The Battle of Neighborhoods (Week 1)"
   ]
  },
  {
   "cell_type": "markdown",
   "metadata": {},
   "source": [
    "## The Diversity of Restaurants in Cities: St. Petersburg, Toronto, Berlin and Paris"
   ]
  },
  {
   "cell_type": "markdown",
   "metadata": {},
   "source": [
    "### 1. Introduction"
   ]
  },
  {
   "cell_type": "markdown",
   "metadata": {},
   "source": [
    "In this project, I will try to compare the diversities of restaurants of four cities - St. Petersburg, Toronto, Berlin and Paris. These cities are quite vibrant: they have a lot of tourists and developed economies. Have they got a high diversity of restaurants? How many types of restaurants can we reveal? What factors have an influence on diversity? What is common between these cases? These and other questions are planned to be answered.\n",
    "\n",
    "It is essential to say that this project has two goals - business and anthropological. Firstly, to compare the diversities of restaurants and show similar and different feathers, and, secondly, to understand the cultural aspect of established correlations."
   ]
  }
 ],
 "metadata": {
  "kernelspec": {
   "display_name": "Python 3",
   "language": "python",
   "name": "python3"
  },
  "language_info": {
   "codemirror_mode": {
    "name": "ipython",
    "version": 3
   },
   "file_extension": ".py",
   "mimetype": "text/x-python",
   "name": "python",
   "nbconvert_exporter": "python",
   "pygments_lexer": "ipython3",
   "version": "3.6.8"
  }
 },
 "nbformat": 4,
 "nbformat_minor": 2
}
