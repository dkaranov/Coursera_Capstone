{
 "cells": [
  {
   "cell_type": "markdown",
   "metadata": {},
   "source": [
    "# Capstone Project - The Battle of Neighborhoods (Week 1)"
   ]
  },
  {
   "cell_type": "markdown",
   "metadata": {},
   "source": [
    "## The Diversity of Restaurants in Cities: St. Petersburg, Toronto, Berlin and Paris"
   ]
  },
  {
   "cell_type": "markdown",
   "metadata": {},
   "source": [
    "### 2. Data"
   ]
  },
  {
   "cell_type": "markdown",
   "metadata": {},
   "source": [
    "There are several types of data, which will be useful for solving the research problem:\n",
    "\n",
    "1. number of restaurants in each city and types of these restaurants;\n",
    "2. number of local population and tourists;\n",
    "3. other economic and cultural indexes.\n",
    "\n",
    "Following data sources will be needed to extract/generate the required information:\n",
    "\n",
    "- number of restaurants and their type will be obtained using Foursquare API;\n",
    "- coordinates of cities and restaurants will be obtained using GeoPy;\n",
    "- statistic data from Wikipedia."
   ]
  }
 ],
 "metadata": {
  "kernelspec": {
   "display_name": "Python 3",
   "language": "python",
   "name": "python3"
  },
  "language_info": {
   "codemirror_mode": {
    "name": "ipython",
    "version": 3
   },
   "file_extension": ".py",
   "mimetype": "text/x-python",
   "name": "python",
   "nbconvert_exporter": "python",
   "pygments_lexer": "ipython3",
   "version": "3.6.8"
  }
 },
 "nbformat": 4,
 "nbformat_minor": 2
}
